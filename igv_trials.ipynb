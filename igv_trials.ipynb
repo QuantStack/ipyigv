{
 "cells": [
  {
   "cell_type": "code",
   "execution_count": 1,
   "metadata": {},
   "outputs": [],
   "source": [
    "import ipyigv as igv\n",
    "from ipywidgets.widgets.trait_types import InstanceDict\n",
    "from ipyigv.options import ReferenceGenome, Track"
   ]
  },
  {
   "cell_type": "code",
   "execution_count": 2,
   "metadata": {},
   "outputs": [
    {
     "data": {
      "text/plain": [
       "{'id': 'hg38',\n",
       " 'name': 'Human (GRCh38/hg38)',\n",
       " 'fastaURL': 'https://s3.dualstack.us-east-1.amazonaws.com/igv.broadinstitute.org/genomes/seq/hg38/hg38.fa',\n",
       " 'indexURL': 'https://s3.dualstack.us-east-1.amazonaws.com/igv.broadinstitute.org/genomes/seq/hg38/hg38.fa.fai',\n",
       " 'cytobandURL': 'https://s3.dualstack.us-east-1.amazonaws.com/igv.org.genomes/hg38/annotations/cytoBandIdeo.txt.gz',\n",
       " 'tracks': [{'name': 'Refseq Genes',\n",
       "   'format': 'refgene',\n",
       "   'url': 'https://s3.dualstack.us-east-1.amazonaws.com/igv.org.genomes/hg38/refGene.txt.gz',\n",
       "   'indexed': False,\n",
       "   'visibilityWindow': -1,\n",
       "   'removable': False,\n",
       "   'order': 1000000}]}"
      ]
     },
     "execution_count": 2,
     "metadata": {},
     "output_type": "execute_result"
    }
   ],
   "source": [
    "genomeDict=igv.PUBLIC_GENOMES.hg38\n",
    "genomeDict"
   ]
  },
  {
   "cell_type": "code",
   "execution_count": 3,
   "metadata": {},
   "outputs": [],
   "source": [
    "genome = ReferenceGenome(**genomeDict)"
   ]
  },
  {
   "cell_type": "code",
   "execution_count": 4,
   "metadata": {},
   "outputs": [],
   "source": [
    "browser = igv.IgvBrowser(genome=genome)"
   ]
  },
  {
   "cell_type": "code",
   "execution_count": 5,
   "metadata": {},
   "outputs": [
    {
     "data": {
      "application/vnd.jupyter.widget-view+json": {
       "model_id": "19d446b83ce24f878d75a69a26e566fd",
       "version_major": 2,
       "version_minor": 0
      },
      "text/plain": [
       "IgvBrowser(genome=ReferenceGenome(cytobandURL='https://s3.dualstack.us-east-1.amazonaws.com/igv.org.genomes/hg…"
      ]
     },
     "metadata": {},
     "output_type": "display_data"
    }
   ],
   "source": [
    "browser"
   ]
  },
  {
   "cell_type": "code",
   "execution_count": 6,
   "metadata": {},
   "outputs": [],
   "source": [
    "trackDict = {'name': 'Refseq Genes',\n",
    "   'format': 'refgene',\n",
    "   'url': 'https://s3.dualstack.us-east-1.amazonaws.com/igv.org.genomes/hg38/refGene.txt.gz',\n",
    "   'indexed': False,\n",
    "   'visibilityWindow': -1,\n",
    "   'removable': False,\n",
    "   'order': 1000000}"
   ]
  },
  {
   "cell_type": "code",
   "execution_count": 7,
   "metadata": {},
   "outputs": [],
   "source": [
    "oneMoreTrack = Track(**trackDict)"
   ]
  },
  {
   "cell_type": "code",
   "execution_count": 8,
   "metadata": {},
   "outputs": [],
   "source": [
    "browser.add_track(oneMoreTrack)"
   ]
  },
  {
   "cell_type": "code",
   "execution_count": 9,
   "metadata": {},
   "outputs": [],
   "source": [
    "browser.remove_track(oneMoreTrack)"
   ]
  },
  {
   "cell_type": "code",
   "execution_count": 10,
   "metadata": {},
   "outputs": [],
   "source": [
    "roiDict = {\n",
    "        'name': 'ROI set 1',\n",
    "        'url': 'https://s3.amazonaws.com/igv.org.test/data/roi/roi_bed_1.bed',\n",
    "        'indexed': False,\n",
    "        'color': \"rgba(68, 134, 247, 0.25)\"\n",
    "}"
   ]
  },
  {
   "cell_type": "code",
   "execution_count": 11,
   "metadata": {},
   "outputs": [],
   "source": [
    "roi=igv.options.AnnotationTrack(**roiDict)"
   ]
  },
  {
   "cell_type": "code",
   "execution_count": 12,
   "metadata": {},
   "outputs": [],
   "source": [
    "browser.add_roi(roi)"
   ]
  },
  {
   "cell_type": "code",
   "execution_count": null,
   "metadata": {},
   "outputs": [],
   "source": []
  },
  {
   "cell_type": "code",
   "execution_count": 13,
   "metadata": {},
   "outputs": [],
   "source": [
    "genome2 = {\n",
    " 'name': 'Example chr6p',\n",
    " 'fastaURL': 'http://localhost:8000/chr6p.fa',\n",
    " 'indexURL': 'http://localhost:8000/chr6p.fa.fai',\n",
    "}"
   ]
  },
  {
   "cell_type": "code",
   "execution_count": 14,
   "metadata": {},
   "outputs": [],
   "source": [
    "pgf6p_on_chr6p_track = {'name': 'PGF 6p on chr6p',\n",
    "   'format': 'refgene',\n",
    "   'url': 'http://localhost:8000/PGF_6p_on_chr6p.bam',\n",
    "   'indexURL': 'http://localhost:8000/PGF_6p_on_chr6p.bai',\n",
    "   }"
   ]
  },
  {
   "cell_type": "code",
   "execution_count": 15,
   "metadata": {},
   "outputs": [],
   "source": [
    "browser2 = igv.IgvBrowser(genome=ReferenceGenome(**genome2))"
   ]
  },
  {
   "cell_type": "code",
   "execution_count": 16,
   "metadata": {},
   "outputs": [
    {
     "data": {
      "application/vnd.jupyter.widget-view+json": {
       "model_id": "9d649dd3b8b940c98b655f5593da6c03",
       "version_major": 2,
       "version_minor": 0
      },
      "text/plain": [
       "IgvBrowser(genome=ReferenceGenome(fastaURL='http://localhost:8000/chr6p.fa', indexURL='http://localhost:8000/c…"
      ]
     },
     "metadata": {},
     "output_type": "display_data"
    }
   ],
   "source": [
    "browser2"
   ]
  },
  {
   "cell_type": "code",
   "execution_count": 15,
   "metadata": {},
   "outputs": [],
   "source": [
    "import urllib.request"
   ]
  },
  {
   "cell_type": "code",
   "execution_count": 18,
   "metadata": {},
   "outputs": [],
   "source": [
    "url = urllib.request.urlopen('http://localhost:8000/chr6p.fa.fai')"
   ]
  },
  {
   "cell_type": "code",
   "execution_count": 19,
   "metadata": {},
   "outputs": [
    {
     "name": "stdout",
     "output_type": "stream",
     "text": [
      "chr6p\t60000000\t45\t60000000\t60000001\n",
      "\n"
     ]
    }
   ],
   "source": [
    "print(url.read(100).decode('utf-8'))"
   ]
  },
  {
   "cell_type": "code",
   "execution_count": null,
   "metadata": {},
   "outputs": [],
   "source": []
  }
 ],
 "metadata": {
  "kernelspec": {
   "display_name": "Python 3",
   "language": "python",
   "name": "python3"
  },
  "language_info": {
   "codemirror_mode": {
    "name": "ipython",
    "version": 3
   },
   "file_extension": ".py",
   "mimetype": "text/x-python",
   "name": "python",
   "nbconvert_exporter": "python",
   "pygments_lexer": "ipython3",
   "version": "3.9.0"
  }
 },
 "nbformat": 4,
 "nbformat_minor": 4
}
